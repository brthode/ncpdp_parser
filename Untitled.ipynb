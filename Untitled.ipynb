{
 "cells": [
  {
   "cell_type": "code",
   "execution_count": 1,
   "id": "e4e943f2-fe9f-4001-9eef-422a4688b0b8",
   "metadata": {},
   "outputs": [],
   "source": [
    "from __future__ import annotations\n",
    "\n",
    "import pathlib\n",
    "from datetime import datetime\n",
    "from enum import StrEnum\n",
    "from typing import Annotated, Any\n",
    "\n",
    "from pydantic import BaseModel, Field, StringConstraints, field_validator, model_validator\n",
    "\n",
    "HEADER_LENGTH = 31\n",
    "FIELD_SEPARATOR = chr(28)  # File Separator <FS> / <0x1c>\n",
    "GROUP_SEPARATOR = chr(29)  # Group Separator <GS> / <0x1d>\n",
    "SEGMENT_SEPARATOR = chr(30)  # Record Separator <RS> / <0x1e>"
   ]
  },
  {
   "cell_type": "code",
   "execution_count": 5,
   "id": "7c14b589-4013-4492-a8f2-b2010107a18a",
   "metadata": {},
   "outputs": [
    {
     "name": "stdout",
     "output_type": "stream",
     "text": [
      "\u001c",
      "\n"
     ]
    }
   ],
   "source": [
    "print(FIELD_SEPARATOR)"
   ]
  },
  {
   "cell_type": "code",
   "execution_count": 6,
   "id": "e1dac4b5-4d38-49b2-9bae-a88c96444771",
   "metadata": {},
   "outputs": [
    {
     "name": "stdout",
     "output_type": "stream",
     "text": [
      "asdf\u001c",
      "\n"
     ]
    }
   ],
   "source": [
    "print(\"asdf\" + FIELD_SEPARATOR)"
   ]
  },
  {
   "cell_type": "code",
   "execution_count": null,
   "id": "3902b346-73de-43d8-bcc5-e0561fe2eb54",
   "metadata": {},
   "outputs": [],
   "source": []
  }
 ],
 "metadata": {
  "kernelspec": {
   "display_name": "zeb",
   "language": "python",
   "name": "zeb"
  },
  "language_info": {
   "codemirror_mode": {
    "name": "ipython",
    "version": 3
   },
   "file_extension": ".py",
   "mimetype": "text/x-python",
   "name": "python",
   "nbconvert_exporter": "python",
   "pygments_lexer": "ipython3",
   "version": "3.13.1"
  }
 },
 "nbformat": 4,
 "nbformat_minor": 5
}
